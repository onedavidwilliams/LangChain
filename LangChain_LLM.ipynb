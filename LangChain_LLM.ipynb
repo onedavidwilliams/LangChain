{
 "cells": [
  {
   "cell_type": "markdown",
   "id": "a3c1925d-43c1-43d7-ab8e-72f56fac463f",
   "metadata": {},
   "source": [
    "# Begginer's Journey into LangChain! Section 2! \n",
    "- Note: all of the credit goes to my teacher Andrei Dumitrescu from [ZeroToMastery.io](https://zerotomastery.io. All of the notes and a lot of the code is a mixture of his class and my own deviation for learning purposes but I urge you to take a look at Zero-To-Mastery if you are looking to up your skills! Here we go.\n",
    "#### First: \n",
    "*(if you have not done so in the previous section(s) comlete this step by uncommenting below)* \\\n",
    "We will install the `requirements.txt`* located in the same directory as our notbook\\\n",
    "Next you can check the version of anything inside of your *`requirements.txt`*\n",
    "- utilize `pip show openai` (or anyother package in *`requirements.txt`*\n",
    "\n",
    "#### Second\n",
    "We will create a .env file within the same directory to hold our environmental veriables. Your should add this to your .gitignore as well\n",
    "The `.env` file will contain API keys. Such as: \n",
    "OPENAI_API_KEY=\"YOURKEYHERE\""
   ]
  },
  {
   "cell_type": "code",
   "execution_count": 1,
   "id": "53222aae-fd20-475d-abd4-c258754d4d67",
   "metadata": {},
   "outputs": [],
   "source": [
    "# pip install -r ./requirements.txt"
   ]
  },
  {
   "cell_type": "code",
   "execution_count": 2,
   "id": "71d066ba-3cc9-4216-bd69-9053e87f2e23",
   "metadata": {},
   "outputs": [
    {
     "name": "stdout",
     "output_type": "stream",
     "text": [
      "Name: openai\n",
      "Version: 1.16.2\n",
      "Summary: The official Python library for the openai API\n",
      "Home-page: \n",
      "Author: \n",
      "Author-email: OpenAI <support@openai.com>\n",
      "License: \n",
      "Location: /home/b4d/miniconda3/envs/llm_env/lib/python3.9/site-packages\n",
      "Requires: anyio, distro, httpx, pydantic, sniffio, tqdm, typing-extensions\n",
      "Required-by: langchain-openai\n",
      "Note: you may need to restart the kernel to use updated packages.\n"
     ]
    }
   ],
   "source": [
    "pip show openai"
   ]
  },
  {
   "cell_type": "code",
   "execution_count": 3,
   "id": "b095660d-728a-4194-ae3f-4cee7fe42102",
   "metadata": {},
   "outputs": [
    {
     "data": {
      "text/plain": [
       "True"
      ]
     },
     "execution_count": 3,
     "metadata": {},
     "output_type": "execute_result"
    }
   ],
   "source": [
    "import os\n",
    "from dotenv import load_dotenv, find_dotenv\n",
    "load_dotenv(find_dotenv(), override=True)"
   ]
  },
  {
   "cell_type": "markdown",
   "id": "b6b11cb5-923b-451d-be0c-98efff7624de",
   "metadata": {},
   "source": [
    "# Storing LLM Responses in an In-memory Cache"
   ]
  },
  {
   "cell_type": "code",
   "execution_count": 6,
   "id": "063fd446-f356-455e-a2de-98f78610f108",
   "metadata": {},
   "outputs": [],
   "source": [
    "from langchain_openai import OpenAI\n",
    "from langchain.globals import set_llm_cache\n",
    "\n",
    "llm = OpenAI(model_name='gpt-3.5-turbo-instruct')"
   ]
  },
  {
   "cell_type": "markdown",
   "id": "b3c0f74d-0763-4717-935b-e3aa50b155e1",
   "metadata": {},
   "source": [
    "Here we we will use `%%time` to see the amount of time passed"
   ]
  },
  {
   "cell_type": "code",
   "execution_count": 7,
   "id": "7457da1a-1f75-4c25-9eb6-7b56568b235a",
   "metadata": {},
   "outputs": [
    {
     "name": "stdout",
     "output_type": "stream",
     "text": [
      "CPU times: user 19.7 ms, sys: 3.98 ms, total: 23.7 ms\n",
      "Wall time: 2.94 s\n"
     ]
    },
    {
     "data": {
      "text/plain": [
       "'\\nQuantum mechanics is a branch of physics that helps us understand how really tiny things, like atoms and particles, behave. It\\'s like a set of rules that describe how these tiny things move and interact with each other.\\n\\nOne of the main ideas in quantum mechanics is that these tiny particles can exist in more than one place at the same time. This may sound strange, but it\\'s true! It\\'s kind of like having a superpower, but for really small things.\\n\\nAnother important concept in quantum mechanics is called \"wave-particle duality.\" This means that these particles can act like both waves and particles at the same time. Think of it like a ball that can also behave like a wave on the surface of a pond - it\\'s both a solid ball and a wavy pattern.\\n\\nQuantum mechanics also helps us understand how these particles can change and interact with each other. It\\'s like a big puzzle that scientists are still trying to figure out, but it has led to many amazing discoveries and technologies that we use every day, like computers and cell phones.\\n\\nOverall, quantum mechanics is a fascinating and complex field of study that helps us understand the building blocks of our universe on a very small scale. '"
      ]
     },
     "execution_count": 7,
     "metadata": {},
     "output_type": "execute_result"
    }
   ],
   "source": [
    "%%time\n",
    "from langchain.cache import InMemoryCache\n",
    "set_llm_cache(InMemoryCache())\n",
    "prompt = 'Explain Quantum Mechanichs as you would to an 8th grader.'\n",
    "llm.invoke(prompt)"
   ]
  },
  {
   "cell_type": "code",
   "execution_count": 8,
   "id": "e38bc4f4-cef0-45e8-9047-c2cdd07a5ae4",
   "metadata": {},
   "outputs": [
    {
     "name": "stdout",
     "output_type": "stream",
     "text": [
      "CPU times: user 305 µs, sys: 25 µs, total: 330 µs\n",
      "Wall time: 336 µs\n"
     ]
    },
    {
     "data": {
      "text/plain": [
       "'\\nQuantum mechanics is a branch of physics that helps us understand how really tiny things, like atoms and particles, behave. It\\'s like a set of rules that describe how these tiny things move and interact with each other.\\n\\nOne of the main ideas in quantum mechanics is that these tiny particles can exist in more than one place at the same time. This may sound strange, but it\\'s true! It\\'s kind of like having a superpower, but for really small things.\\n\\nAnother important concept in quantum mechanics is called \"wave-particle duality.\" This means that these particles can act like both waves and particles at the same time. Think of it like a ball that can also behave like a wave on the surface of a pond - it\\'s both a solid ball and a wavy pattern.\\n\\nQuantum mechanics also helps us understand how these particles can change and interact with each other. It\\'s like a big puzzle that scientists are still trying to figure out, but it has led to many amazing discoveries and technologies that we use every day, like computers and cell phones.\\n\\nOverall, quantum mechanics is a fascinating and complex field of study that helps us understand the building blocks of our universe on a very small scale. '"
      ]
     },
     "execution_count": 8,
     "metadata": {},
     "output_type": "execute_result"
    }
   ],
   "source": [
    "%%time\n",
    "llm.invoke(prompt)"
   ]
  },
  {
   "cell_type": "code",
   "execution_count": null,
   "id": "7a327fff-43da-413f-90b9-e265724a59aa",
   "metadata": {},
   "outputs": [],
   "source": []
  }
 ],
 "metadata": {
  "kernelspec": {
   "display_name": "Python 3 (ipykernel)",
   "language": "python",
   "name": "python3"
  },
  "language_info": {
   "codemirror_mode": {
    "name": "ipython",
    "version": 3
   },
   "file_extension": ".py",
   "mimetype": "text/x-python",
   "name": "python",
   "nbconvert_exporter": "python",
   "pygments_lexer": "ipython3",
   "version": "3.9.19"
  }
 },
 "nbformat": 4,
 "nbformat_minor": 5
}
