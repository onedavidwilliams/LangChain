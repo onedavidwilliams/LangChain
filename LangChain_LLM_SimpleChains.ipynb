{
 "cells": [
  {
   "cell_type": "markdown",
   "id": "d19757d5-be81-4f4c-8659-d55346ec6747",
   "metadata": {},
   "source": [
    "# Begginer's Journey into LangChain! Section 6 - Simple Chains\n",
    "- Note: all of the credit goes to Andrei Dumitrescu from [ZeroToMastery.io](https://zerotomastery.io. All of the notes and a lot of the code is a mixture of his class and my own deviation for learning purposes, but I **urge** you to take a look at Zero-To-Mastery if you are looking to up your skills! Here we go.\n",
    "#### First: \n",
    "*(if you have not done so in the previous section(s) comlete this step by uncommenting below)* \\\n",
    "We will install the `requirements.txt`* located in the same directory as our notbook\\\n",
    "Next you can check the version of anything inside of your *`requirements.txt`*\n",
    "- utilize `pip show openai` (or anyother package in *`requirements.txt`*\n",
    "\n",
    "#### Second\n",
    "We will create a .env file within the same directory to hold our environmental veriables. Your should add this to your .gitignore as well\n",
    "The `.env` file will contain API keys. Such as: \n",
    "OPENAI_API_KEY=\"YOURKEYHERE\""
   ]
  },
  {
   "cell_type": "code",
   "execution_count": 1,
   "id": "230a6d50-adf9-4ba6-9345-de6dac460468",
   "metadata": {},
   "outputs": [],
   "source": [
    "# pip install -r ./requirements.txt"
   ]
  },
  {
   "cell_type": "code",
   "execution_count": 2,
   "id": "75c67dca-12ec-4868-802b-cd3b294a79ac",
   "metadata": {},
   "outputs": [],
   "source": [
    "# pip show openai"
   ]
  },
  {
   "cell_type": "code",
   "execution_count": 3,
   "id": "04db5311-70b9-4634-a964-465c908d901b",
   "metadata": {},
   "outputs": [
    {
     "data": {
      "text/plain": [
       "True"
      ]
     },
     "execution_count": 3,
     "metadata": {},
     "output_type": "execute_result"
    }
   ],
   "source": [
    "import os\n",
    "from dotenv import load_dotenv, find_dotenv\n",
    "load_dotenv(find_dotenv())"
   ]
  },
  {
   "cell_type": "markdown",
   "id": "307d9cbf-f37b-4187-ad31-bd63bc7b14c4",
   "metadata": {},
   "source": [
    "# Using Simple chains"
   ]
  },
  {
   "cell_type": "code",
   "execution_count": 9,
   "id": "6d24b605-07e0-433d-aff6-f0bc5f70400b",
   "metadata": {},
   "outputs": [
    {
     "name": "stdout",
     "output_type": "stream",
     "text": [
      "\n",
      "\n",
      "\u001b[1m> Entering new LLMChain chain...\u001b[0m\n",
      "Prompt after formatting:\n",
      "\u001b[32;1m\u001b[1;3mPretend you are a CEO\n",
      "Write a few sentences about competitor analysis for social media marketing.\u001b[0m\n",
      "\n",
      "\u001b[1m> Finished chain.\u001b[0m\n"
     ]
    }
   ],
   "source": [
    "from langchain_openai import ChatOpenAI\n",
    "from langchain import PromptTemplate\n",
    "from langchain.chains import LLMChain\n",
    "\n",
    "llm = ChatOpenAI(model_name='gpt-4')\n",
    "template = '''Pretend you are a {profession}\n",
    "Write a few sentences about {topic}.'''\n",
    "\n",
    "prompt_template = PromptTemplate.from_template(template=template)\n",
    "\n",
    "chain = LLMChain(\n",
    "    llm=llm,\n",
    "    prompt=prompt_template,\n",
    "    verbose=True\n",
    ")\n",
    "\n",
    "output = chain.invoke({'profession':'CEO','topic':'competitor analysis for social media marketing'})"
   ]
  },
  {
   "cell_type": "code",
   "execution_count": 7,
   "id": "8256deb3-8785-4e7f-848f-7cbf5c9b7284",
   "metadata": {},
   "outputs": [
    {
     "name": "stdout",
     "output_type": "stream",
     "text": [
      "{'profession': 'CEO', 'topic': 'competitor analysis for social media marketing', 'text': 'As the CEO, I believe that competitor analysis in social media marketing is a crucial aspect of our business strategy. It allows us to identify who our competition is, understand their tactics, measure their online presence, and find out their strengths and weaknesses. By doing so, we can create more effective marketing strategies that will give us a competitive edge, seize market opportunities, and ultimately, drive our growth and success.'}\n"
     ]
    }
   ],
   "source": [
    "print(output)"
   ]
  },
  {
   "cell_type": "code",
   "execution_count": null,
   "id": "4dde2668-36eb-4053-bbf1-64918ca63297",
   "metadata": {},
   "outputs": [],
   "source": []
  }
 ],
 "metadata": {
  "kernelspec": {
   "display_name": "Python 3 (ipykernel)",
   "language": "python",
   "name": "python3"
  },
  "language_info": {
   "codemirror_mode": {
    "name": "ipython",
    "version": 3
   },
   "file_extension": ".py",
   "mimetype": "text/x-python",
   "name": "python",
   "nbconvert_exporter": "python",
   "pygments_lexer": "ipython3",
   "version": "3.9.19"
  }
 },
 "nbformat": 4,
 "nbformat_minor": 5
}
