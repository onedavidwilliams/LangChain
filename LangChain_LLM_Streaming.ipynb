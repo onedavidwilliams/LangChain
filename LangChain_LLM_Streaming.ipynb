{
 "cells": [
  {
   "cell_type": "markdown",
   "id": "6c9a673f-324c-48b4-9225-07966c576d7a",
   "metadata": {},
   "source": [
    "# Begginer's Journey into LangChain! Section 3! \n",
    "- Note: all of the credit goes to Andrei Dumitrescu from [ZeroToMastery.io](https://zerotomastery.io. All of the notes and a lot of the code is a mixture of his class and my own deviation for learning purposes, but I **urge** you to take a look at Zero-To-Mastery if you are looking to up your skills! Here we go.\n",
    "#### First: \n",
    "*(if you have not done so in the previous section(s) comlete this step by uncommenting below)* \\\n",
    "We will install the `requirements.txt`* located in the same directory as our notbook\\\n",
    "Next you can check the version of anything inside of your *`requirements.txt`*\n",
    "- utilize `pip show openai` (or anyother package in *`requirements.txt`*\n",
    "\n",
    "#### Second\n",
    "We will create a .env file within the same directory to hold our environmental veriables. Your should add this to your .gitignore as well\n",
    "The `.env` file will contain API keys. Such as: \n",
    "OPENAI_API_KEY=\"YOURKEYHERE\""
   ]
  },
  {
   "cell_type": "code",
   "execution_count": 1,
   "id": "0cb4ec4e-c62f-43ac-8c69-ed4611319997",
   "metadata": {},
   "outputs": [],
   "source": [
    "# pip install -r ./requirements.txt"
   ]
  },
  {
   "cell_type": "code",
   "execution_count": 2,
   "id": "74c41ca3-1a22-44fb-b8e7-95c0c84e721b",
   "metadata": {},
   "outputs": [],
   "source": [
    "# pip show openai"
   ]
  },
  {
   "cell_type": "code",
   "execution_count": 6,
   "id": "d31226d0-911a-4955-a437-66820a7c15c3",
   "metadata": {},
   "outputs": [
    {
     "data": {
      "text/plain": [
       "True"
      ]
     },
     "execution_count": 6,
     "metadata": {},
     "output_type": "execute_result"
    }
   ],
   "source": [
    "import os\n",
    "from dotenv import load_dotenv, find_dotenv\n",
    "load_dotenv(find_dotenv(), override=True)"
   ]
  },
  {
   "cell_type": "markdown",
   "id": "eb7ab897-d1a5-419e-8f8d-c48e5de9eea6",
   "metadata": {},
   "source": [
    "#### As with previous sections let's dive in:\n",
    "Here we will call a song for the gpt-4 model to generate. \\\n",
    "This will give us a lengthy enough response to stream later"
   ]
  },
  {
   "cell_type": "code",
   "execution_count": 8,
   "id": "3fe8da42-4bdb-434f-9a8a-aee279c8f7cf",
   "metadata": {},
   "outputs": [],
   "source": [
    "from langchain_openai import ChatOpenAI\n",
    "\n",
    "llm = ChatOpenAI(model_name='gpt-4')\n",
    "prompt = \"Write a pop song about conspiracy theories.\"\n"
   ]
  },
  {
   "cell_type": "code",
   "execution_count": 11,
   "id": "eb014f1c-1714-4970-9147-95378c2da31f",
   "metadata": {},
   "outputs": [
    {
     "name": "stdout",
     "output_type": "stream",
     "text": [
      "(Verse 1)\n",
      "Woke up this morning, to a world that's not the same,\n",
      "Shadowy figures whispering, playing a dangerous game.\n",
      "Believe in what you see or trust in what you feel?\n",
      "In the age of misinformation, it's hard to know what's real.\n",
      "\n",
      "(Verse 2)\n",
      "They're talking about aliens, hiding on the dark side of the moon,\n",
      "Illuminati secrets, they'll be revealing soon.\n",
      "Chemtrails in the sky, they're trying to control the weather,\n",
      "In a world of whispers, we're trying to stick together.\n",
      "\n",
      "(Chorus)\n",
      "Conspiracy theories, truth or just a lie?\n",
      "In a world full of secrets, it's hard to know, oh my.\n",
      "Flat earth or moon landing, what's the reality?\n",
      "Living in this world of conspiracy theories.\n",
      "\n",
      "(Verse 3)\n",
      "They say we never landed, on that big bright sphere,\n",
      "They're hiding the truth, that's what we're really here.\n",
      "Area 51, what are they trying to hide?\n",
      "In this world of shadows, it's a roller coaster ride.\n",
      "\n",
      "(Chorus)\n",
      "Conspiracy theories, spinning round and round,\n",
      "Lost in the echoes, of a truth yet to be found.\n",
      "Bigfoot or Loch Ness, what's the mystery?\n",
      "Living in this world of conspiracy theories.\n",
      "\n",
      "(Bridge)\n",
      "Truth or illusion, what do you believe?\n",
      "In a world full of shadows, what do you perceive?\n",
      "They say the truth is out there, but is it really clear?\n",
      "In this world of whispers, what do you hold dear?\n",
      "\n",
      "(Chorus)\n",
      "Conspiracy theories, are they just a game?\n",
      "In this world of secrets, it's driving us insane.\n",
      "JFK or 9/11, where's the clarity?\n",
      "Living in this world of conspiracy theories.\n",
      "\n",
      "(Outro)\n",
      "Conspiracy theories, it's a world of dreams,\n",
      "Where nothing's ever really, as it truly seems.\n",
      "In a world of whispers, we're searching for the key,\n",
      "Living, breathing, dreaming in this world of conspiracy."
     ]
    }
   ],
   "source": [
    "for chunk in llm.stream(prompt):\n",
    "    print(chunk.content, end='', flush=True)"
   ]
  },
  {
   "cell_type": "code",
   "execution_count": null,
   "id": "faf2738d-503c-4345-80a4-deff705599db",
   "metadata": {},
   "outputs": [],
   "source": []
  }
 ],
 "metadata": {
  "kernelspec": {
   "display_name": "Python 3 (ipykernel)",
   "language": "python",
   "name": "python3"
  },
  "language_info": {
   "codemirror_mode": {
    "name": "ipython",
    "version": 3
   },
   "file_extension": ".py",
   "mimetype": "text/x-python",
   "name": "python",
   "nbconvert_exporter": "python",
   "pygments_lexer": "ipython3",
   "version": "3.9.19"
  }
 },
 "nbformat": 4,
 "nbformat_minor": 5
}
