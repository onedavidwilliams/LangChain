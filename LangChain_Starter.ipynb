{
 "cells": [
  {
   "cell_type": "markdown",
   "id": "3ed54941-f2c3-4e18-8ae2-8aa9b225335a",
   "metadata": {},
   "source": [
    "# Begginer's Journey into LangChain! Section 1! \n",
    "- Note: all of the credit goes to my teacher Andrei Dumitrescu from [ZeroToMastery.io](https://zerotomastery.io. All of the notes and a lot of the code is a mixture of his class and my own deviation for learning purposes but I urge you to take a look at Zero-To-Mastery if you are looking to up your skills! Here we go.\n",
    "#### First:\n",
    "We will install the `requirements.txt`* located in the same directory as our notbook\\\n",
    "Next you can check the version of anything inside of your *`requirements.txt`*\n",
    "- utilize `pip show openai` (or anyother package in *`requirements.txt`*\n",
    "\n",
    "#### Second\n",
    "We will create a .env file within the same directory to hold our environmental veriables. Your should add this to your .gitignore as well\n",
    "The `.env` file will contain API keys. Such as: \n",
    "OPENAI_API_KEY=\"YOURKEYHERE\""
   ]
  },
  {
   "cell_type": "code",
   "execution_count": 1,
   "id": "7dc020ce-b579-4a44-a453-0fe1afe8914e",
   "metadata": {},
   "outputs": [
    {
     "name": "stdout",
     "output_type": "stream",
     "text": [
      "Requirement already satisfied: openai in /home/b4d/miniconda3/envs/llm_env/lib/python3.9/site-packages (from -r ./requirements.txt (line 1)) (1.16.2)\n",
      "Requirement already satisfied: langchain in /home/b4d/miniconda3/envs/llm_env/lib/python3.9/site-packages (from -r ./requirements.txt (line 2)) (0.1.14)\n",
      "Requirement already satisfied: langchain-openai in /home/b4d/miniconda3/envs/llm_env/lib/python3.9/site-packages (from -r ./requirements.txt (line 3)) (0.1.1)\n",
      "Requirement already satisfied: pinecone-client in /home/b4d/miniconda3/envs/llm_env/lib/python3.9/site-packages (from -r ./requirements.txt (line 4)) (3.2.2)\n",
      "Requirement already satisfied: python-dotenv in /home/b4d/miniconda3/envs/llm_env/lib/python3.9/site-packages (from -r ./requirements.txt (line 5)) (1.0.1)\n",
      "Requirement already satisfied: tiktoken in /home/b4d/miniconda3/envs/llm_env/lib/python3.9/site-packages (from -r ./requirements.txt (line 6)) (0.6.0)\n",
      "Requirement already satisfied: docx2txt in /home/b4d/miniconda3/envs/llm_env/lib/python3.9/site-packages (from -r ./requirements.txt (line 7)) (0.8)\n",
      "Requirement already satisfied: pypdf in /home/b4d/miniconda3/envs/llm_env/lib/python3.9/site-packages (from -r ./requirements.txt (line 8)) (4.1.0)\n",
      "Requirement already satisfied: requests in /home/b4d/miniconda3/envs/llm_env/lib/python3.9/site-packages (from -r ./requirements.txt (line 9)) (2.31.0)\n",
      "Requirement already satisfied: pandas in /home/b4d/miniconda3/envs/llm_env/lib/python3.9/site-packages (from -r ./requirements.txt (line 10)) (2.2.1)\n",
      "Requirement already satisfied: aiohttp in /home/b4d/miniconda3/envs/llm_env/lib/python3.9/site-packages (from -r ./requirements.txt (line 11)) (3.9.3)\n",
      "Requirement already satisfied: PyYAML in /home/b4d/miniconda3/envs/llm_env/lib/python3.9/site-packages (from -r ./requirements.txt (line 12)) (6.0.1)\n",
      "Requirement already satisfied: numpy in /home/b4d/miniconda3/envs/llm_env/lib/python3.9/site-packages (from -r ./requirements.txt (line 13)) (1.26.4)\n",
      "Requirement already satisfied: anyio<5,>=3.5.0 in /home/b4d/miniconda3/envs/llm_env/lib/python3.9/site-packages (from openai->-r ./requirements.txt (line 1)) (4.2.0)\n",
      "Requirement already satisfied: distro<2,>=1.7.0 in /home/b4d/miniconda3/envs/llm_env/lib/python3.9/site-packages (from openai->-r ./requirements.txt (line 1)) (1.9.0)\n",
      "Requirement already satisfied: httpx<1,>=0.23.0 in /home/b4d/miniconda3/envs/llm_env/lib/python3.9/site-packages (from openai->-r ./requirements.txt (line 1)) (0.27.0)\n",
      "Requirement already satisfied: pydantic<3,>=1.9.0 in /home/b4d/miniconda3/envs/llm_env/lib/python3.9/site-packages (from openai->-r ./requirements.txt (line 1)) (2.6.4)\n",
      "Requirement already satisfied: sniffio in /home/b4d/miniconda3/envs/llm_env/lib/python3.9/site-packages (from openai->-r ./requirements.txt (line 1)) (1.3.0)\n",
      "Requirement already satisfied: tqdm>4 in /home/b4d/miniconda3/envs/llm_env/lib/python3.9/site-packages (from openai->-r ./requirements.txt (line 1)) (4.66.2)\n",
      "Requirement already satisfied: typing-extensions<5,>=4.7 in /home/b4d/miniconda3/envs/llm_env/lib/python3.9/site-packages (from openai->-r ./requirements.txt (line 1)) (4.9.0)\n",
      "Requirement already satisfied: SQLAlchemy<3,>=1.4 in /home/b4d/miniconda3/envs/llm_env/lib/python3.9/site-packages (from langchain->-r ./requirements.txt (line 2)) (2.0.29)\n",
      "Requirement already satisfied: async-timeout<5.0.0,>=4.0.0 in /home/b4d/miniconda3/envs/llm_env/lib/python3.9/site-packages (from langchain->-r ./requirements.txt (line 2)) (4.0.3)\n",
      "Requirement already satisfied: dataclasses-json<0.7,>=0.5.7 in /home/b4d/miniconda3/envs/llm_env/lib/python3.9/site-packages (from langchain->-r ./requirements.txt (line 2)) (0.6.4)\n",
      "Requirement already satisfied: jsonpatch<2.0,>=1.33 in /home/b4d/miniconda3/envs/llm_env/lib/python3.9/site-packages (from langchain->-r ./requirements.txt (line 2)) (1.33)\n",
      "Requirement already satisfied: langchain-community<0.1,>=0.0.30 in /home/b4d/miniconda3/envs/llm_env/lib/python3.9/site-packages (from langchain->-r ./requirements.txt (line 2)) (0.0.31)\n",
      "Requirement already satisfied: langchain-core<0.2.0,>=0.1.37 in /home/b4d/miniconda3/envs/llm_env/lib/python3.9/site-packages (from langchain->-r ./requirements.txt (line 2)) (0.1.40)\n",
      "Requirement already satisfied: langchain-text-splitters<0.1,>=0.0.1 in /home/b4d/miniconda3/envs/llm_env/lib/python3.9/site-packages (from langchain->-r ./requirements.txt (line 2)) (0.0.1)\n",
      "Requirement already satisfied: langsmith<0.2.0,>=0.1.17 in /home/b4d/miniconda3/envs/llm_env/lib/python3.9/site-packages (from langchain->-r ./requirements.txt (line 2)) (0.1.40)\n",
      "Requirement already satisfied: tenacity<9.0.0,>=8.1.0 in /home/b4d/miniconda3/envs/llm_env/lib/python3.9/site-packages (from langchain->-r ./requirements.txt (line 2)) (8.2.3)\n",
      "Requirement already satisfied: certifi>=2019.11.17 in /home/b4d/miniconda3/envs/llm_env/lib/python3.9/site-packages (from pinecone-client->-r ./requirements.txt (line 4)) (2024.2.2)\n",
      "Requirement already satisfied: urllib3>=1.26.0 in /home/b4d/miniconda3/envs/llm_env/lib/python3.9/site-packages (from pinecone-client->-r ./requirements.txt (line 4)) (2.1.0)\n",
      "Requirement already satisfied: regex>=2022.1.18 in /home/b4d/miniconda3/envs/llm_env/lib/python3.9/site-packages (from tiktoken->-r ./requirements.txt (line 6)) (2023.12.25)\n",
      "Requirement already satisfied: charset-normalizer<4,>=2 in /home/b4d/miniconda3/envs/llm_env/lib/python3.9/site-packages (from requests->-r ./requirements.txt (line 9)) (2.0.4)\n",
      "Requirement already satisfied: idna<4,>=2.5 in /home/b4d/miniconda3/envs/llm_env/lib/python3.9/site-packages (from requests->-r ./requirements.txt (line 9)) (3.4)\n",
      "Requirement already satisfied: python-dateutil>=2.8.2 in /home/b4d/miniconda3/envs/llm_env/lib/python3.9/site-packages (from pandas->-r ./requirements.txt (line 10)) (2.8.2)\n",
      "Requirement already satisfied: pytz>=2020.1 in /home/b4d/miniconda3/envs/llm_env/lib/python3.9/site-packages (from pandas->-r ./requirements.txt (line 10)) (2023.3.post1)\n",
      "Requirement already satisfied: tzdata>=2022.7 in /home/b4d/miniconda3/envs/llm_env/lib/python3.9/site-packages (from pandas->-r ./requirements.txt (line 10)) (2023.3)\n",
      "Requirement already satisfied: aiosignal>=1.1.2 in /home/b4d/miniconda3/envs/llm_env/lib/python3.9/site-packages (from aiohttp->-r ./requirements.txt (line 11)) (1.3.1)\n",
      "Requirement already satisfied: attrs>=17.3.0 in /home/b4d/miniconda3/envs/llm_env/lib/python3.9/site-packages (from aiohttp->-r ./requirements.txt (line 11)) (23.1.0)\n",
      "Requirement already satisfied: frozenlist>=1.1.1 in /home/b4d/miniconda3/envs/llm_env/lib/python3.9/site-packages (from aiohttp->-r ./requirements.txt (line 11)) (1.4.1)\n",
      "Requirement already satisfied: multidict<7.0,>=4.5 in /home/b4d/miniconda3/envs/llm_env/lib/python3.9/site-packages (from aiohttp->-r ./requirements.txt (line 11)) (6.0.5)\n",
      "Requirement already satisfied: yarl<2.0,>=1.0 in /home/b4d/miniconda3/envs/llm_env/lib/python3.9/site-packages (from aiohttp->-r ./requirements.txt (line 11)) (1.9.4)\n",
      "Requirement already satisfied: exceptiongroup>=1.0.2 in /home/b4d/miniconda3/envs/llm_env/lib/python3.9/site-packages (from anyio<5,>=3.5.0->openai->-r ./requirements.txt (line 1)) (1.2.0)\n",
      "Requirement already satisfied: marshmallow<4.0.0,>=3.18.0 in /home/b4d/miniconda3/envs/llm_env/lib/python3.9/site-packages (from dataclasses-json<0.7,>=0.5.7->langchain->-r ./requirements.txt (line 2)) (3.21.1)\n",
      "Requirement already satisfied: typing-inspect<1,>=0.4.0 in /home/b4d/miniconda3/envs/llm_env/lib/python3.9/site-packages (from dataclasses-json<0.7,>=0.5.7->langchain->-r ./requirements.txt (line 2)) (0.9.0)\n",
      "Requirement already satisfied: httpcore==1.* in /home/b4d/miniconda3/envs/llm_env/lib/python3.9/site-packages (from httpx<1,>=0.23.0->openai->-r ./requirements.txt (line 1)) (1.0.5)\n",
      "Requirement already satisfied: h11<0.15,>=0.13 in /home/b4d/miniconda3/envs/llm_env/lib/python3.9/site-packages (from httpcore==1.*->httpx<1,>=0.23.0->openai->-r ./requirements.txt (line 1)) (0.14.0)\n",
      "Requirement already satisfied: jsonpointer>=1.9 in /home/b4d/miniconda3/envs/llm_env/lib/python3.9/site-packages (from jsonpatch<2.0,>=1.33->langchain->-r ./requirements.txt (line 2)) (2.4)\n",
      "Requirement already satisfied: packaging<24.0,>=23.2 in /home/b4d/miniconda3/envs/llm_env/lib/python3.9/site-packages (from langchain-core<0.2.0,>=0.1.37->langchain->-r ./requirements.txt (line 2)) (23.2)\n",
      "Requirement already satisfied: orjson<4.0.0,>=3.9.14 in /home/b4d/miniconda3/envs/llm_env/lib/python3.9/site-packages (from langsmith<0.2.0,>=0.1.17->langchain->-r ./requirements.txt (line 2)) (3.10.0)\n",
      "Requirement already satisfied: annotated-types>=0.4.0 in /home/b4d/miniconda3/envs/llm_env/lib/python3.9/site-packages (from pydantic<3,>=1.9.0->openai->-r ./requirements.txt (line 1)) (0.6.0)\n",
      "Requirement already satisfied: pydantic-core==2.16.3 in /home/b4d/miniconda3/envs/llm_env/lib/python3.9/site-packages (from pydantic<3,>=1.9.0->openai->-r ./requirements.txt (line 1)) (2.16.3)\n",
      "Requirement already satisfied: six>=1.5 in /home/b4d/miniconda3/envs/llm_env/lib/python3.9/site-packages (from python-dateutil>=2.8.2->pandas->-r ./requirements.txt (line 10)) (1.16.0)\n",
      "Requirement already satisfied: greenlet!=0.4.17 in /home/b4d/miniconda3/envs/llm_env/lib/python3.9/site-packages (from SQLAlchemy<3,>=1.4->langchain->-r ./requirements.txt (line 2)) (3.0.3)\n",
      "Requirement already satisfied: mypy-extensions>=0.3.0 in /home/b4d/miniconda3/envs/llm_env/lib/python3.9/site-packages (from typing-inspect<1,>=0.4.0->dataclasses-json<0.7,>=0.5.7->langchain->-r ./requirements.txt (line 2)) (1.0.0)\n",
      "Note: you may need to restart the kernel to use updated packages.\n"
     ]
    }
   ],
   "source": [
    "pip install -r ./requirements.txt"
   ]
  },
  {
   "cell_type": "markdown",
   "id": "0018d0a0-39af-4fa6-89a1-e19dd0ab1565",
   "metadata": {},
   "source": [
    "#### By Using another package wtih *`pip show`* we can verify *`requirements.txt`* has been installed"
   ]
  },
  {
   "cell_type": "code",
   "execution_count": 2,
   "id": "7bb24f88-cab2-452b-bc99-78c8c79170fa",
   "metadata": {},
   "outputs": [],
   "source": [
    "# pip show python-dotenv"
   ]
  },
  {
   "cell_type": "markdown",
   "id": "66939d17-86ba-4461-8a3b-11f60e74b566",
   "metadata": {},
   "source": [
    "#### Here we will utilize *`python-dotenv`* to load our variables"
   ]
  },
  {
   "cell_type": "code",
   "execution_count": 3,
   "id": "b840c9ed-1dfc-4f92-a6ec-e2b2445768e7",
   "metadata": {},
   "outputs": [
    {
     "data": {
      "text/plain": [
       "True"
      ]
     },
     "execution_count": 3,
     "metadata": {},
     "output_type": "execute_result"
    }
   ],
   "source": [
    "import os\n",
    "from dotenv import load_dotenv, find_dotenv\n",
    "load_dotenv(find_dotenv(), override=True)\n",
    "\n",
    "# os.environ.get('OPENAI_API_KEY')"
   ]
  },
  {
   "cell_type": "code",
   "execution_count": 15,
   "id": "3a8cb421-dae0-41f0-8de1-eb8152c15610",
   "metadata": {},
   "outputs": [
    {
     "name": "stdout",
     "output_type": "stream",
     "text": [
      "As of my last update in April 2023, the detection and utilization of quantum entanglement in superconducting systems are indeed a vibrant area of research in quantum computing and quantum information theory. Superconductors, materials that can conduct electricity without resistance below a certain critical temperature, play a crucial role in this because they can host quantum states with minimal decoherence—making them excellent candidates for observing quantum phenomena like entanglement.\n",
      "\n",
      "Quantum entanglement is a phenomenon where particles become interconnected such that the state of one (no matter the distance from the other) instantaneously influences the state of the other. This property is not only fascinating but also forms the backbone of quantum computing and quantum communication technologies.\n",
      "\n",
      "In superconducting systems, quantum entanglement is often detected and manipulated using what are known as superconducting qubits. These qubits can be thought of as the quantum version of classical bits, but unlike classical bits, qubits can be in a superposition of both 0 and 1 states simultaneously due to quantum mechanics. There are several types of superconducting qubits, including transmon qubits, flux qubits, and phase qubits, each with its own method of operation and advantages.\n",
      "\n",
      "### How It Works:\n",
      "\n",
      "1. **Creating Qubits**: Superconducting qubits are created using circuits that contain elements like Josephson junctions. A Josephson junction consists of two superconductors separated by a thin insulating barrier. This setup can exhibit quantum mechanical properties, such as superposition and entanglement, at macroscopic scales.\n",
      "\n",
      "2. **Entangling Qubits**: To entangle qubits, researchers apply microwave pulses at specific frequencies and durations. By carefully controlling the interaction between qubits, they can induce an entangled state. For example, in a system of two qubits, an entangling operation might result in a state where both qubits are in a superposition of being both in the 0 state and in the 1 state simultaneously. This means that measuring the state of one qubit immediately determines the state of the other, no matter the distance between them, which is the essence of entanglement.\n",
      "\n",
      "3. **Detection of Entanglement**: Detecting entanglement in superconducting qubits typically involves performing a series of quantum logic operations followed by measurements. The outcomes of these measurements can exhibit correlations that are stronger than what is possible under classical physics, indicating the presence of quantum entanglement. Quantum state tomography is a common method used to fully characterize the quantum state of the system, including its entangled states.\n",
      "\n",
      "4. **Readout**: The quantum state of a superconducting qubit is often read out by coupling the qubit to a microwave resonator and measuring the transmission or reflection of microwave signals sent through the resonator. The qubit influences the properties of the resonator in a way that depends on the qubit's quantum state, allowing researchers to infer the state of the qubit (and thus the presence of entanglement) from the microwave signal.\n",
      "\n",
      "The ability to detect and manipulate quantum entanglement in superconducting circuits has been crucial for the development of quantum computers, which promise to outperform classical computers in certain tasks, such as factoring large numbers, simulating quantum systems, and optimizing complex problems. These advancements in superconducting technology and quantum entanglement detection are at the forefront of ongoing research aimed at realizing practical and scalable quantum computing solutions.\n"
     ]
    }
   ],
   "source": [
    "from langchain_openai import ChatOpenAI\n",
    "\n",
    "llm = ChatOpenAI(model='gpt-4-turbo-preview')\n",
    "output = llm.invoke('You do know that they now how been able to detect quantum entanglement by way of a supercondutor correct? And if you do please explain how it works.')\n",
    "print(output.content)"
   ]
  },
  {
   "cell_type": "markdown",
   "id": "d2e7edd1-cc9b-4629-b255-ec774d9997a1",
   "metadata": {},
   "source": [
    "#### If you would like to look at the entire object you can use *`print(output)`*"
   ]
  },
  {
   "cell_type": "code",
   "execution_count": 18,
   "id": "6e3e11bf-aaa0-4642-a5bb-7ba3112360d0",
   "metadata": {},
   "outputs": [],
   "source": [
    "# print(output)"
   ]
  },
  {
   "cell_type": "markdown",
   "id": "cbf19b50-1b58-4299-b147-fc6c1201fbea",
   "metadata": {},
   "source": [
    "#### using `help(ChatOpenAI)` will allow you to see the class information like so:"
   ]
  },
  {
   "cell_type": "code",
   "execution_count": 17,
   "id": "804d03fc-4269-4d06-b5b7-03d23454ef27",
   "metadata": {},
   "outputs": [],
   "source": [
    "# help(ChatOpenAI)"
   ]
  },
  {
   "cell_type": "markdown",
   "id": "a6e010e8-d70e-42fc-81bd-44c79ed6fa9d",
   "metadata": {},
   "source": [
    "#### We can then create a simple `SystemMessage` that will tell the LLM how it should behave \n",
    "#### We can also create a simple `Human Message` that will tell the llm what the prompt is."
   ]
  },
  {
   "cell_type": "code",
   "execution_count": 25,
   "id": "09eee64d-3d4f-4e9b-a18e-de86b1a19de3",
   "metadata": {},
   "outputs": [
    {
     "name": "stdout",
     "output_type": "stream",
     "text": [
      "Starting a complete software and marketing digital agency today can be a rewarding yet challenging endeavor, given the competitive landscape and the rapid pace of technological evolution. However, with the right approach, you can carve out a successful niche for your business. Here is a structured plan to get you started:\n",
      "\n",
      "### 1. Define Your Niche and Services\n",
      "\n",
      "- **Identify Your Niche:** Given the saturation in the market, it's crucial to identify a niche where you can excel. This could be based on industry (e.g., healthcare, real estate), technology (e.g., AI, blockchain), or service type (e.g., mobile app development, SEO).\n",
      "- **Define Your Services:** Clearly outline what your agency will offer. Will you focus on software development, digital marketing, or both? What specific services within these areas will you provide? Tailor your services to the needs of your chosen niche.\n",
      "\n",
      "### 2. Market Research and Validation\n",
      "\n",
      "- **Competitor Analysis:** Analyze your competitors to understand their offerings, pricing models, and marketing strategies. This will help you identify gaps in the market and areas for differentiation.\n",
      "- **Customer Validation:** Engage with potential clients through surveys, interviews, or focus groups to validate the demand for your services. Ensure there's a market need for what you're planning to offer.\n",
      "\n",
      "### 3. Business Plan and Model\n",
      "\n",
      "- **Create a Business Plan:** Document your business strategy, including market analysis, services, pricing model, marketing and sales strategy, and financial projections. A solid business plan can guide your operations and is essential for securing funding.\n",
      "- **Choose a Business Model:** Decide how you will charge for your services. Common models include hourly rates, project-based pricing, retainer agreements, or a mix of these.\n",
      "\n",
      "### 4. Legal and Financial Setup\n",
      "\n",
      "- **Register Your Business:** Choose an appropriate business structure (e.g., LLC, corporation) and register your business. Consider consulting a legal professional to ensure compliance with local laws and regulations.\n",
      "- **Open a Business Bank Account:** Keep your personal and business finances separate by opening a business bank account.\n",
      "- **Set Up Accounting:** Implement an accounting system to manage your finances, track expenses, and prepare for taxes.\n",
      "\n",
      "### 5. Build Your Team\n",
      "\n",
      "- **Hiring:** Depending on your budget and expertise, you may start solo or hire a small team. Consider roles like software developers, digital marketers, sales representatives, and project managers.\n",
      "- **Outsource:** If hiring full-time staff is not feasible, consider outsourcing certain tasks to freelancers or partnering with other agencies.\n",
      "\n",
      "### 6. Develop Your Brand and Online Presence\n",
      "\n",
      "- **Brand Identity:** Create a strong brand identity, including your agency's name, logo, and brand colors. This will be crucial for your marketing efforts.\n",
      "- **Website and Social Media:** Develop a professional website showcasing your services, portfolio, and client testimonials. Establish a presence on social media platforms relevant to your target audience.\n",
      "\n",
      "### 7. Marketing and Sales\n",
      "\n",
      "- **Content Marketing:** Generate valuable content (e.g., blog posts, case studies, eBooks) to attract and engage your target audience.\n",
      "- **Networking:** Attend industry events and join online communities to network with potential clients and partners.\n",
      "- **Sales Strategy:** Develop a sales strategy that includes outreach to potential clients, proposals, and follow-ups. Consider using CRM software to manage your sales pipeline.\n",
      "\n",
      "### 8. Continuous Learning and Adaptation\n",
      "\n",
      "- **Stay Updated:** The tech and digital marketing landscapes are constantly evolving. Stay updated with the latest trends, tools, and best practices.\n",
      "- **Solicit Feedback:** Regularly seek feedback from your clients to improve your services and customer satisfaction.\n",
      "- **Iterate:** Be prepared to iterate on your business model and strategies based on market feedback and your own performance metrics.\n",
      "\n",
      "Starting a software and digital marketing agency requires a combination of technical skills, business acumen, and a deep understanding of your target market. By following these steps and being adaptive to the market needs, you can build a successful agency in today's competitive climate.\n"
     ]
    }
   ],
   "source": [
    "from langchain.schema import SystemMessage, AIMessage, HumanMessage\n",
    "\n",
    "messages =[\n",
    "    SystemMessage(content='You are the CEO of a company and are very helpful to young entrepreneurs.'),\n",
    "    HumanMessage(content='Hey what is the best way to start a complete software and marketing digital agency in todays climate')\n",
    "]\n",
    "\n",
    "output = llm.invoke(messages)\n",
    "\n",
    "print(output.content)"
   ]
  }
 ],
 "metadata": {
  "kernelspec": {
   "display_name": "Python 3 (ipykernel)",
   "language": "python",
   "name": "python3"
  },
  "language_info": {
   "codemirror_mode": {
    "name": "ipython",
    "version": 3
   },
   "file_extension": ".py",
   "mimetype": "text/x-python",
   "name": "python",
   "nbconvert_exporter": "python",
   "pygments_lexer": "ipython3",
   "version": "3.9.19"
  }
 },
 "nbformat": 4,
 "nbformat_minor": 5
}
