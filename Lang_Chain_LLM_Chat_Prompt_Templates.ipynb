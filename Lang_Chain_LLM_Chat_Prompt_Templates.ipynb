{
 "cells": [
  {
   "cell_type": "markdown",
   "id": "d19757d5-be81-4f4c-8659-d55346ec6747",
   "metadata": {},
   "source": [
    "# Begginer's Journey into LangChain! Section 5 - Chat Prompt Templates\n",
    "- Note: all of the credit goes to Andrei Dumitrescu from [ZeroToMastery.io](https://zerotomastery.io. All of the notes and a lot of the code is a mixture of his class and my own deviation for learning purposes, but I **urge** you to take a look at Zero-To-Mastery if you are looking to up your skills! Here we go.\n",
    "#### First: \n",
    "*(if you have not done so in the previous section(s) comlete this step by uncommenting below)* \\\n",
    "We will install the `requirements.txt`* located in the same directory as our notbook\\\n",
    "Next you can check the version of anything inside of your *`requirements.txt`*\n",
    "- utilize `pip show openai` (or anyother package in *`requirements.txt`*\n",
    "\n",
    "#### Second\n",
    "We will create a .env file within the same directory to hold our environmental veriables. Your should add this to your .gitignore as well\n",
    "The `.env` file will contain API keys. Such as: \n",
    "OPENAI_API_KEY=\"YOURKEYHERE\""
   ]
  },
  {
   "cell_type": "code",
   "execution_count": null,
   "id": "230a6d50-adf9-4ba6-9345-de6dac460468",
   "metadata": {},
   "outputs": [],
   "source": [
    "# pip install -r ./requirements.txt"
   ]
  },
  {
   "cell_type": "code",
   "execution_count": 1,
   "id": "75c67dca-12ec-4868-802b-cd3b294a79ac",
   "metadata": {},
   "outputs": [],
   "source": [
    "# pip show openai"
   ]
  },
  {
   "cell_type": "code",
   "execution_count": 2,
   "id": "04db5311-70b9-4634-a964-465c908d901b",
   "metadata": {},
   "outputs": [
    {
     "data": {
      "text/plain": [
       "True"
      ]
     },
     "execution_count": 2,
     "metadata": {},
     "output_type": "execute_result"
    }
   ],
   "source": [
    "import os\n",
    "from dotenv import load_dotenv, find_dotenv\n",
    "load_dotenv(find_dotenv())"
   ]
  },
  {
   "cell_type": "markdown",
   "id": "36347cfa-d09a-46cf-b4c8-45d53e9f6972",
   "metadata": {},
   "source": [
    "# Merging different parts of the course\n",
    "I will take the *`llm.stream(messages)`* approach as I did in the last notebook to give an \"interactive\" look. We will later be able to use this to our advantage in Web Applications and Software."
   ]
  },
  {
   "cell_type": "code",
   "execution_count": 5,
   "id": "9def951f-f2da-4458-b0c9-6671f2f18b44",
   "metadata": {},
   "outputs": [
    {
     "name": "stdout",
     "output_type": "stream",
     "text": [
      "[\n",
      "  {\n",
      "    \"country\": \"China\",\n",
      "    \"numberOneExport\": \"Electronics\",\n",
      "    \"annualSales\": \"$671 billion\"\n",
      "  },\n",
      "  {\n",
      "    \"country\": \"United States\",\n",
      "    \"numberOneExport\": \"Machinery including computers\",\n",
      "    \"annualSales\": \"$205 billion\"\n",
      "  },\n",
      "  {\n",
      "    \"country\": \"Germany\",\n",
      "    \"numberOneExport\": \"Vehicles\",\n",
      "    \"annualSales\": \"$283 billion\"\n",
      "  },\n",
      "  {\n",
      "    \"country\": \"Japan\",\n",
      "    \"numberOneExport\": \"Vehicles\",\n",
      "    \"annualSales\": \"$148 billion\"\n",
      "  },\n",
      "  {\n",
      "    \"country\": \"Netherlands\",\n",
      "    \"numberOneExport\": \"Machines, engines, pumps\",\n",
      "    \"annualSales\": \"$101 billion\"\n",
      "  },\n",
      "  {\n",
      "    \"country\": \"South Korea\",\n",
      "    \"numberOneExport\": \"Integrated circuits\",\n",
      "    \"annualSales\": \"$113 billion\"\n",
      "  },\n",
      "  {\n",
      "    \"country\": \"France\",\n",
      "    \"numberOneExport\": \"Aircraft and spacecraft\",\n",
      "    \"annualSales\": \"$57 billion\"\n",
      "  },\n",
      "  {\n",
      "    \"country\": \"Italy\",\n",
      "    \"numberOneExport\": \"Machinery and equipment\",\n",
      "    \"annualSales\": \"$101 billion\"\n",
      "  },\n",
      "  {\n",
      "    \"country\": \"United Kingdom\",\n",
      "    \"numberOneExport\": \"Machines, engines, pumps\",\n",
      "    \"annualSales\": \"$63 billion\"\n",
      "  },\n",
      "  {\n",
      "    \"country\": \"Canada\",\n",
      "    \"numberOneExport\": \"Crude petroleum\",\n",
      "    \"annualSales\": \"$68 billion\"\n",
      "  }\n",
      "]"
     ]
    }
   ],
   "source": [
    "from langchain.prompts import ChatPromptTemplate, HumanMessagePromptTemplate\n",
    "from langchain_core.messages import SystemMessage\n",
    "from langchain_openai import ChatOpenAI\n",
    "\n",
    "chat_template = ChatPromptTemplate.from_messages(\n",
    "    [\n",
    "        SystemMessage('Your responses are in JSON format'),\n",
    "        HumanMessagePromptTemplate.from_template('List {num_c} countries by their {option_c}.')\n",
    "    ]\n",
    ")\n",
    "llm = ChatOpenAI(model_name='gpt-4')\n",
    "messages = chat_template.format_messages(num_c='10', option_c='Number one export and its sales per year')\n",
    "\n",
    "for chunk in llm.stream(messages):\n",
    "    print(chunk.content, end='', flush=True)"
   ]
  },
  {
   "cell_type": "code",
   "execution_count": null,
   "id": "badf53b4-d278-4397-b3c7-45f6406180ba",
   "metadata": {},
   "outputs": [],
   "source": []
  }
 ],
 "metadata": {
  "kernelspec": {
   "display_name": "Python 3 (ipykernel)",
   "language": "python",
   "name": "python3"
  },
  "language_info": {
   "codemirror_mode": {
    "name": "ipython",
    "version": 3
   },
   "file_extension": ".py",
   "mimetype": "text/x-python",
   "name": "python",
   "nbconvert_exporter": "python",
   "pygments_lexer": "ipython3",
   "version": "3.9.19"
  }
 },
 "nbformat": 4,
 "nbformat_minor": 5
}
